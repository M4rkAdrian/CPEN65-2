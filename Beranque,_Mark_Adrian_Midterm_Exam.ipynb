{
  "nbformat": 4,
  "nbformat_minor": 0,
  "metadata": {
    "colab": {
      "provenance": [],
      "authorship_tag": "ABX9TyP5yx8UfTUJiq6c8B+IjEbM",
      "include_colab_link": true
    },
    "kernelspec": {
      "name": "python3",
      "display_name": "Python 3"
    },
    "language_info": {
      "name": "python"
    }
  },
  "cells": [
    {
      "cell_type": "markdown",
      "metadata": {
        "id": "view-in-github",
        "colab_type": "text"
      },
      "source": [
        "<a href=\"https://colab.research.google.com/github/MarkBeranque/CPEN65-2/blob/main/Beranque%2C_Mark_Adrian_Midterm_Exam.ipynb\" target=\"_parent\"><img src=\"https://colab.research.google.com/assets/colab-badge.svg\" alt=\"Open In Colab\"/></a>"
      ]
    },
    {
      "cell_type": "markdown",
      "source": [
        "A. Methodology"
      ],
      "metadata": {
        "id": "4Vhr6iOD_Z1l"
      }
    },
    {
      "cell_type": "code",
      "source": [
        "#Write a Python program to create an array of 10 integers and display the array items. Access individual elements through indexes and compute for the sum.\n",
        "\n",
        "b = [-2,-1,0,1,2,3,4,5,6,7]\n",
        "\n",
        "for i in enumerate(b):\n",
        "\n",
        "  print(i)\n",
        "total = sum(b)\n",
        "print(\"The total sum of the elements in the array is\", total)"
      ],
      "metadata": {
        "colab": {
          "base_uri": "https://localhost:8080/"
        },
        "id": "j6YKf4Jj_dze",
        "outputId": "d32f7f16-2815-49e9-90cb-b0810bd9cffd"
      },
      "execution_count": 45,
      "outputs": [
        {
          "output_type": "stream",
          "name": "stdout",
          "text": [
            "(0, -2)\n",
            "(1, -1)\n",
            "(2, 0)\n",
            "(3, 1)\n",
            "(4, 2)\n",
            "(5, 3)\n",
            "(6, 4)\n",
            "(7, 5)\n",
            "(8, 6)\n",
            "(9, 7)\n",
            "The total sum of the elements in the array is 25\n"
          ]
        }
      ]
    },
    {
      "cell_type": "code",
      "source": [
        "#Write a Python program to append a new item to the end of the array. Original array: numbers = [1, 2, 3, 4, 5, 6, 7, 8, 9, 10]\n",
        "\n",
        "numbers = [1, 2, 3, 4, 5, 6, 7, 8, 9, 10]\n",
        "\n",
        "print(numbers)\n",
        "\n",
        "h = numbers.append(34)\n",
        "print(numbers)"
      ],
      "metadata": {
        "colab": {
          "base_uri": "https://localhost:8080/"
        },
        "id": "--nI8_dcITMK",
        "outputId": "d11e41ea-58db-4e7e-9294-b4934abe1908"
      },
      "execution_count": 63,
      "outputs": [
        {
          "output_type": "stream",
          "name": "stdout",
          "text": [
            "[1, 2, 3, 4, 5, 6, 7, 8, 9, 10]\n",
            "[1, 2, 3, 4, 5, 6, 7, 8, 9, 10, 34]\n"
          ]
        }
      ]
    },
    {
      "cell_type": "code",
      "source": [
        "#Write a Python program to insert a new item before the second element in an existing array. Original array: numbers = [1, 2, 3, 4, 5, 6, 7, 8, 9, 10]\n",
        "\n",
        "numbers = [1, 2, 3, 4, 5, 6, 7, 8, 9, 10]\n",
        "\n",
        "print(numbers)\n",
        "\n",
        "numbers.insert(1,25)\n",
        "print(numbers)"
      ],
      "metadata": {
        "colab": {
          "base_uri": "https://localhost:8080/"
        },
        "id": "z9_qOnRfK9vY",
        "outputId": "e8b37214-2af0-4e6e-bd69-d0a5bce493c2"
      },
      "execution_count": 64,
      "outputs": [
        {
          "output_type": "stream",
          "name": "stdout",
          "text": [
            "[1, 2, 3, 4, 5, 6, 7, 8, 9, 10]\n",
            "[1, 25, 2, 3, 4, 5, 6, 7, 8, 9, 10]\n"
          ]
        }
      ]
    },
    {
      "cell_type": "code",
      "source": [
        "#Write a Python program to reverse the order of the items in the array. Original array: numbers = [5, 4, 3, 2, 1]\n",
        "\n",
        "numbers = [5, 4, 3, 2, 1]\n",
        "\n",
        "print(numbers)\n",
        "\n",
        "list(reversed(numbers))\n"
      ],
      "metadata": {
        "colab": {
          "base_uri": "https://localhost:8080/"
        },
        "id": "4v7pGujyLf_p",
        "outputId": "bdcfad93-5da4-42de-fe49-550aecc2edd0"
      },
      "execution_count": 65,
      "outputs": [
        {
          "output_type": "stream",
          "name": "stdout",
          "text": [
            "[5, 4, 3, 2, 1]\n"
          ]
        },
        {
          "output_type": "execute_result",
          "data": {
            "text/plain": [
              "[1, 2, 3, 4, 5]"
            ]
          },
          "metadata": {},
          "execution_count": 65
        }
      ]
    },
    {
      "cell_type": "code",
      "source": [
        "#Write a Python program to get the length of the array. Original array: numbers = [5, 4, 3, 2, 1]\n",
        "\n",
        "numbers = [5, 4, 3, 2, 1]\n",
        "\n",
        "x = len(numbers)\n",
        "print('The length of the array is' ,x)"
      ],
      "metadata": {
        "colab": {
          "base_uri": "https://localhost:8080/"
        },
        "id": "029lnc5TPF9B",
        "outputId": "0bdb762e-8d9d-4c4b-f046-fd1e45c48360"
      },
      "execution_count": 66,
      "outputs": [
        {
          "output_type": "stream",
          "name": "stdout",
          "text": [
            "The length of the array is 5\n"
          ]
        }
      ]
    }
  ]
}