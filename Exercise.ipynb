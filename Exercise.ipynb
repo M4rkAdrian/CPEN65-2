{
  "nbformat": 4,
  "nbformat_minor": 0,
  "metadata": {
    "colab": {
      "provenance": [],
      "authorship_tag": "ABX9TyN94sxlF/pN6PPtdRUMcv0G",
      "include_colab_link": true
    },
    "kernelspec": {
      "name": "python3",
      "display_name": "Python 3"
    },
    "language_info": {
      "name": "python"
    }
  },
  "cells": [
    {
      "cell_type": "markdown",
      "metadata": {
        "id": "view-in-github",
        "colab_type": "text"
      },
      "source": [
        "<a href=\"https://colab.research.google.com/github/MarkBeranque/CPEN65-2/blob/main/Exercise.ipynb\" target=\"_parent\"><img src=\"https://colab.research.google.com/assets/colab-badge.svg\" alt=\"Open In Colab\"/></a>"
      ]
    },
    {
      "cell_type": "code",
      "execution_count": 7,
      "metadata": {
        "colab": {
          "base_uri": "https://localhost:8080/"
        },
        "id": "isJHhwutBU-W",
        "outputId": "46a24488-d68b-4111-ec9f-99730d2be077"
      },
      "outputs": [
        {
          "output_type": "stream",
          "name": "stdout",
          "text": [
            "['e', 'u', 'q', 'n', 'a', 'r', 'e', 'B', ' ', '.', 'B', ' ', 'n', 'a', 'i', 'r', 'd', 'A', ' ', 'k', 'r', 'a', 'M']\n"
          ]
        }
      ],
      "source": [
        "#Create a python program that use Array.\n",
        "#Insert each character of your full name and displays each character of your full name in reverse order.\n",
        "name = ('Mark Adrian B. Beranque')\n",
        "print(list(reversed(name)))"
      ]
    }
  ]
}