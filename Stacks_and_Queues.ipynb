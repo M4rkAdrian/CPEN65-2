{
  "nbformat": 4,
  "nbformat_minor": 0,
  "metadata": {
    "colab": {
      "provenance": [],
      "authorship_tag": "ABX9TyMUH9l3O8H0mUZHCR/ZX/rJ",
      "include_colab_link": true
    },
    "kernelspec": {
      "name": "python3",
      "display_name": "Python 3"
    },
    "language_info": {
      "name": "python"
    }
  },
  "cells": [
    {
      "cell_type": "markdown",
      "metadata": {
        "id": "view-in-github",
        "colab_type": "text"
      },
      "source": [
        "<a href=\"https://colab.research.google.com/github/MarkBeranque/CPEN65-2/blob/main/Stacks_and_Queues.ipynb\" target=\"_parent\"><img src=\"https://colab.research.google.com/assets/colab-badge.svg\" alt=\"Open In Colab\"/></a>"
      ]
    },
    {
      "cell_type": "code",
      "source": [
        "class Stack: \n",
        "  def __init__(self):\n",
        "    self.stack = []\n",
        "\n",
        "  def push(self,dataval):\n",
        "    if dataval not in self.stack:\n",
        "      return self.stack.append(dataval)\n",
        "    else:\n",
        "      return 'False'\n",
        "  \n",
        "  def pop(self):\n",
        "    if len(self.stack)<=0:\n",
        "      return 'Stack is Empty'\n",
        "    else:\n",
        "      return self.stack.pop()\n",
        "\n",
        "Astack = Stack()\n",
        "Astack.push(1)\n",
        "Astack.push(2)\n",
        "Astack.push(3)\n",
        "\n",
        "print(Astack.stack)\n",
        "\n",
        "Astack.pop()\n",
        "\n",
        "print(Astack.stack)\n",
        "\n",
        "Astack.pop()\n",
        "\n",
        "print(Astack.stack)\n",
        "\n",
        "Astack.pop()\n",
        "print(Astack.stack)"
      ],
      "metadata": {
        "colab": {
          "base_uri": "https://localhost:8080/"
        },
        "id": "ih6fMYLLDwge",
        "outputId": "6d55f304-cf31-4a30-f08f-9b076d4714ee"
      },
      "execution_count": 8,
      "outputs": [
        {
          "output_type": "stream",
          "name": "stdout",
          "text": [
            "[1, 2, 3]\n",
            "[1, 2]\n",
            "[1]\n",
            "[]\n"
          ]
        }
      ]
    },
    {
      "cell_type": "code",
      "source": [
        "#Application 1\n",
        "\n",
        "#Implement the above program by Queues Data Structure (enqueue and dequeue/ FIFO principle)\n",
        "\n",
        "class Queue: \n",
        "  def __init__(self):\n",
        "    self.queue = []\n",
        "\n",
        "  def enqueue(self,dataval):\n",
        "    if dataval not in self.queue:\n",
        "      return self.queue.append(dataval)\n",
        "    else:\n",
        "      return 'False'\n",
        "  \n",
        "  def dequeue(self):\n",
        "    if len(self.queue)<=0:\n",
        "      return 'Queue is Empty'\n",
        "    else:\n",
        "      return self.queue.pop(0)\n",
        "\n",
        "Zqueue = Queue()\n",
        "Zqueue.enqueue(1)\n",
        "Zqueue.enqueue(2)\n",
        "Zqueue.enqueue(3)\n",
        "\n",
        "print(Zqueue.queue)\n",
        "\n",
        "Zqueue.dequeue()\n",
        "\n",
        "print(Zqueue.queue)\n",
        "\n",
        "Zqueue.dequeue()\n",
        "\n",
        "print(Zqueue.queue)\n",
        "\n",
        "Zqueue.dequeue()\n",
        "print(Zqueue.queue)\n"
      ],
      "metadata": {
        "colab": {
          "base_uri": "https://localhost:8080/"
        },
        "id": "NaZGcpKRHf81",
        "outputId": "d8082e9f-1d92-4ac2-c0ba-85993d4bb853"
      },
      "execution_count": 10,
      "outputs": [
        {
          "output_type": "stream",
          "name": "stdout",
          "text": [
            "[1, 2, 3]\n",
            "[2, 3]\n",
            "[3]\n",
            "[]\n"
          ]
        }
      ]
    }
  ]
}