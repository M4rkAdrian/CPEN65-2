{
  "nbformat": 4,
  "nbformat_minor": 0,
  "metadata": {
    "colab": {
      "provenance": [],
      "collapsed_sections": [],
      "authorship_tag": "ABX9TyN/JnmfvZSdvrFI5TOBzWSO",
      "include_colab_link": true
    },
    "kernelspec": {
      "name": "python3",
      "display_name": "Python 3"
    },
    "language_info": {
      "name": "python"
    }
  },
  "cells": [
    {
      "cell_type": "markdown",
      "metadata": {
        "id": "view-in-github",
        "colab_type": "text"
      },
      "source": [
        "<a href=\"https://colab.research.google.com/github/MarkBeranque/CPEN65-2/blob/main/Array.ipynb\" target=\"_parent\"><img src=\"https://colab.research.google.com/assets/colab-badge.svg\" alt=\"Open In Colab\"/></a>"
      ]
    },
    {
      "cell_type": "code",
      "execution_count": null,
      "metadata": {
        "id": "cNHYV_G2QLSA"
      },
      "outputs": [],
      "source": [
        "animal1 = \"cat\"\n",
        "animal2 = \"dog\"\n",
        "animal3 = \"fish\""
      ]
    },
    {
      "cell_type": "markdown",
      "source": [
        "Accessing the Elements in the Array"
      ],
      "metadata": {
        "id": "NMeRtq1L-4dB"
      }
    },
    {
      "cell_type": "code",
      "source": [
        "animals =[\"cat\",\"dog\",\"fish\"]\n",
        "x = animals[-1]\n",
        "print(x)"
      ],
      "metadata": {
        "colab": {
          "base_uri": "https://localhost:8080/"
        },
        "id": "2J2l0jLuQytX",
        "outputId": "0bfca60d-1bbc-4412-f39d-a01984eff986"
      },
      "execution_count": null,
      "outputs": [
        {
          "output_type": "stream",
          "name": "stdout",
          "text": [
            "fish\n"
          ]
        }
      ]
    },
    {
      "cell_type": "markdown",
      "source": [
        "Modifying the Elements in the Array"
      ],
      "metadata": {
        "id": "6xauJJw7RW2_"
      }
    },
    {
      "cell_type": "code",
      "source": [
        "animals =[\"cat\",\"dog\",\"fish\"]\n",
        "animals[0] = \"monkey\"\n",
        "print(x)"
      ],
      "metadata": {
        "colab": {
          "base_uri": "https://localhost:8080/"
        },
        "id": "apmy3MhrRbtY",
        "outputId": "9f229f5c-695b-46cd-dbbd-0eb1d91f46be"
      },
      "execution_count": null,
      "outputs": [
        {
          "output_type": "stream",
          "name": "stdout",
          "text": [
            "fish\n"
          ]
        }
      ]
    },
    {
      "cell_type": "markdown",
      "source": [
        "Length of an Array"
      ],
      "metadata": {
        "id": "VmIUpCZ-R1DR"
      }
    },
    {
      "cell_type": "code",
      "source": [
        "animals =[\"cat\",\"dog\",\"fish\",\"bird\"]\n",
        "x = len(animals)\n",
        "print(x)"
      ],
      "metadata": {
        "colab": {
          "base_uri": "https://localhost:8080/"
        },
        "id": "YtKyUMm2R3P5",
        "outputId": "62771333-2eee-4803-8761-37e1aec0bcb6"
      },
      "execution_count": null,
      "outputs": [
        {
          "output_type": "stream",
          "name": "stdout",
          "text": [
            "4\n"
          ]
        }
      ]
    },
    {
      "cell_type": "markdown",
      "source": [
        "Looping Array Element"
      ],
      "metadata": {
        "id": "3Wx2LAOoSG18"
      }
    },
    {
      "cell_type": "code",
      "source": [
        "animals =[\"cat\",\"dog\",\"fish\"]\n",
        "for x in animals:\n",
        "  print(x)\n"
      ],
      "metadata": {
        "colab": {
          "base_uri": "https://localhost:8080/"
        },
        "id": "n7BlCqLqSMdL",
        "outputId": "6e40577a-1b92-4a0b-ab3c-1156b14f3d1b"
      },
      "execution_count": null,
      "outputs": [
        {
          "output_type": "stream",
          "name": "stdout",
          "text": [
            "cat\n",
            "dog\n",
            "fish\n"
          ]
        }
      ]
    },
    {
      "cell_type": "markdown",
      "source": [
        "  Adding elements in the Array"
      ],
      "metadata": {
        "id": "-ED0vUD4SYza"
      }
    },
    {
      "cell_type": "code",
      "source": [
        "animals =[\"cat\",\"dog\",\"fish\"]\n",
        "animals.append(\"monkey\")\n",
        "print(animals)"
      ],
      "metadata": {
        "colab": {
          "base_uri": "https://localhost:8080/"
        },
        "id": "FPTgky8BSdrG",
        "outputId": "7476967a-003b-439a-faed-78d6b7ddbbb5"
      },
      "execution_count": null,
      "outputs": [
        {
          "output_type": "stream",
          "name": "stdout",
          "text": [
            "['cat', 'dog', 'fish', 'monkey']\n"
          ]
        }
      ]
    },
    {
      "cell_type": "code",
      "source": [
        "#Write a python program to insert a new item 11 before the second element in an existing array.\n",
        "#Original array numbers =[1,2,3,4,5,6,7,8,9,10]\n",
        "numbers =[1,2,3,4,5,6,7,8,9,10]\n",
        "numbers.insert(1,11)\n",
        "print(numbers)"
      ],
      "metadata": {
        "colab": {
          "base_uri": "https://localhost:8080/"
        },
        "id": "jhYFEKI8-ORP",
        "outputId": "62a9961a-7c23-4bea-e458-8631907836ce"
      },
      "execution_count": 8,
      "outputs": [
        {
          "output_type": "stream",
          "name": "stdout",
          "text": [
            "[1, 11, 2, 3, 4, 5, 6, 7, 8, 9, 10]\n"
          ]
        }
      ]
    },
    {
      "cell_type": "markdown",
      "source": [
        "Removing an Element in the Array"
      ],
      "metadata": {
        "id": "lwWf_faIS2kh"
      }
    },
    {
      "cell_type": "code",
      "source": [
        "numbers =[1,2,3,4,5,6,7,8,9,10]\n",
        "numbers.pop(4)\n",
        "print(numbers)"
      ],
      "metadata": {
        "colab": {
          "base_uri": "https://localhost:8080/"
        },
        "id": "MjN30ZNjS7NI",
        "outputId": "1a337938-a0d5-4d39-b453-e8419c142e66"
      },
      "execution_count": 16,
      "outputs": [
        {
          "output_type": "stream",
          "name": "stdout",
          "text": [
            "[1, 2, 3, 4, 6, 7, 8, 9, 10]\n"
          ]
        }
      ]
    },
    {
      "cell_type": "markdown",
      "source": [
        "Reversing"
      ],
      "metadata": {
        "id": "oHhULR6LThat"
      }
    },
    {
      "cell_type": "code",
      "source": [
        "animals =[\"cat\",\"dog\",\"fish\"]\n",
        "animals.reverse()\n",
        "print(animals)"
      ],
      "metadata": {
        "colab": {
          "base_uri": "https://localhost:8080/"
        },
        "id": "j2-oCuFQTiaf",
        "outputId": "174e5119-7f7b-4e85-9dbf-919c403b0add"
      },
      "execution_count": null,
      "outputs": [
        {
          "output_type": "stream",
          "name": "stdout",
          "text": [
            "['fish', 'dog', 'cat']\n"
          ]
        }
      ]
    },
    {
      "cell_type": "markdown",
      "source": [
        "Clearing"
      ],
      "metadata": {
        "id": "hKERRrpjT0HM"
      }
    },
    {
      "cell_type": "code",
      "source": [
        "animals =[\"cat\",\"dog\",\"fish\"]\n",
        "animals.clear()\n",
        "print(animals)"
      ],
      "metadata": {
        "colab": {
          "base_uri": "https://localhost:8080/"
        },
        "id": "EUJKxZpzT3S7",
        "outputId": "b8cfa6b9-544a-4e09-c49d-acfa8459bbf5"
      },
      "execution_count": null,
      "outputs": [
        {
          "output_type": "stream",
          "name": "stdout",
          "text": [
            "[]\n"
          ]
        }
      ]
    },
    {
      "cell_type": "markdown",
      "source": [
        "Copying"
      ],
      "metadata": {
        "id": "SoU9C-qWUqRz"
      }
    },
    {
      "cell_type": "code",
      "source": [
        "animals =[\"cat\",\"dog\",\"fish\"]\n",
        "animals.copy()\n",
        "print(animals)"
      ],
      "metadata": {
        "colab": {
          "base_uri": "https://localhost:8080/"
        },
        "id": "jRfbRIOhUxsV",
        "outputId": "ad9f5e2b-85df-4d5f-a5a3-eb080b7b6c1d"
      },
      "execution_count": null,
      "outputs": [
        {
          "output_type": "stream",
          "name": "stdout",
          "text": [
            "['cat', 'dog', 'fish']\n"
          ]
        }
      ]
    },
    {
      "cell_type": "markdown",
      "source": [
        "Counting"
      ],
      "metadata": {
        "id": "a_WaXNSWU5U8"
      }
    },
    {
      "cell_type": "code",
      "source": [
        "animals =[\"cat\",\"dog\",\"fish\"]\n",
        "animals.count(0)\n",
        "print(animals)"
      ],
      "metadata": {
        "colab": {
          "base_uri": "https://localhost:8080/"
        },
        "id": "2cSJY_JfU7U9",
        "outputId": "e94d200a-4e95-47ce-c698-3d4082b3dd2b"
      },
      "execution_count": null,
      "outputs": [
        {
          "output_type": "stream",
          "name": "stdout",
          "text": [
            "['cat', 'dog', 'fish']\n"
          ]
        }
      ]
    },
    {
      "cell_type": "markdown",
      "source": [
        "Inserting"
      ],
      "metadata": {
        "id": "jRYO7eElVZYt"
      }
    },
    {
      "cell_type": "code",
      "source": [
        "animals =[\"cat\",\"dog\",\"fish\"]\n",
        "animals.insert(2,\"monkey\")\n",
        "print(animals)"
      ],
      "metadata": {
        "colab": {
          "base_uri": "https://localhost:8080/"
        },
        "id": "oDByn5NFVkwZ",
        "outputId": "0aa8973e-617a-42c4-ccdc-a230f78ef1f4"
      },
      "execution_count": null,
      "outputs": [
        {
          "output_type": "stream",
          "name": "stdout",
          "text": [
            "['cat', 'dog', 'monkey', 'fish']\n"
          ]
        }
      ]
    }
  ]
}