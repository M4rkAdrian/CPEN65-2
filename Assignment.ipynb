{
  "nbformat": 4,
  "nbformat_minor": 0,
  "metadata": {
    "colab": {
      "provenance": [],
      "collapsed_sections": [],
      "authorship_tag": "ABX9TyNiD6tWw6jWh+zs6I4rN1Gu",
      "include_colab_link": true
    },
    "kernelspec": {
      "name": "python3",
      "display_name": "Python 3"
    },
    "language_info": {
      "name": "python"
    }
  },
  "cells": [
    {
      "cell_type": "markdown",
      "metadata": {
        "id": "view-in-github",
        "colab_type": "text"
      },
      "source": [
        "<a href=\"https://colab.research.google.com/github/MarkBeranque/CPEN65-2/blob/main/Assignment.ipynb\" target=\"_parent\"><img src=\"https://colab.research.google.com/assets/colab-badge.svg\" alt=\"Open In Colab\"/></a>"
      ]
    },
    {
      "cell_type": "markdown",
      "source": [
        "Create a python program that computes the area of a circle\n"
      ],
      "metadata": {
        "id": "7_8z0m1PnmNf"
      }
    },
    {
      "cell_type": "code",
      "source": [
        "Radius = float(input(\"Enter the given radius of the circle: \"))\n",
        "class Circle:\n",
        "  def __init__(self,radius):\n",
        "    self.radius = radius\n",
        "\n",
        "  def Area_radius(self):\n",
        "    return int(self.radius) * int(self.radius) * 3.14159265359\n",
        "  def Diameter_radius(self):\n",
        "    return int(self.radius) * 2\n",
        "  def Perimeter_radius(self):\n",
        "    return (int(self.radius) * 3.14159265359) * 2\n",
        "\n",
        "circle1 = Circle(Radius)\n",
        "\n",
        "print(\"The area of the circle is\",circle1.Area_radius())\n",
        "print(\"The diameter of the circle is\",circle1.Diameter_radius())\n",
        "print(\"The perimeter of the circle is\",circle1.Perimeter_radius())\n"
      ],
      "metadata": {
        "id": "qA5Y8tHVnuTG",
        "colab": {
          "base_uri": "https://localhost:8080/"
        },
        "outputId": "bb581764-1204-4e8f-869c-c7355fe886d6"
      },
      "execution_count": null,
      "outputs": [
        {
          "output_type": "stream",
          "name": "stdout",
          "text": [
            "Enter the given radius of the circle: 23.123\n",
            "The area of the circle is 1661.90251374911\n",
            "The diameter of the circle is 46\n",
            "The perimeter of the circle is 144.51326206514\n"
          ]
        }
      ]
    },
    {
      "cell_type": "code",
      "source": [
        "Diameter = float(input(\"Enter the given diameter of the circle: \"))\n",
        "class Circle:\n",
        "  def __init__(self,diameter):\n",
        "    self.diameter = diameter\n",
        "\n",
        "  def Area_diameter(self):\n",
        "    return (int(self.diameter) * int(self.diameter)) * 3.14159265359 / 4\n",
        "  def Radius_diameter(self):\n",
        "    return int(self.diameter) / 2\n",
        "  def Perimeter_diameter(self):\n",
        "    return int(self.diameter) * 3.14159265359\n",
        "\n",
        "circle1 = Circle(Diameter)\n",
        "\n",
        "print(\"The area of the circle is\",circle1.Area_diameter())\n",
        "print(\"The radius of the circle is\",circle1.Radius_diameter())\n",
        "print(\"The perimeter of the circle is\",circle1.Perimeter_diameter())"
      ],
      "metadata": {
        "colab": {
          "base_uri": "https://localhost:8080/"
        },
        "id": "r6JmxfmU97qZ",
        "outputId": "70224966-d15d-43e5-b1f9-2e4cc70f767d"
      },
      "execution_count": null,
      "outputs": [
        {
          "output_type": "stream",
          "name": "stdout",
          "text": [
            "Enter the given diameter of the circle: 234.23\n",
            "The area of the circle is 43005.26183499351\n",
            "The radius of the circle is 117.0\n",
            "The perimeter of the circle is 735.13268094006\n"
          ]
        }
      ]
    }
  ]
}